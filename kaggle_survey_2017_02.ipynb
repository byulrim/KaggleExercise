{
 "cells": [
  {
   "cell_type": "code",
   "execution_count": null,
   "metadata": {},
   "outputs": [],
   "source": [
    "import pandas as pd\n",
    "import numpy as np\n",
    "from scipy import stats\n",
    "import matplotlib.pyplot as plt\n",
    "import seaborn as sns\n",
    "from glob import glob"
   ]
  },
  {
   "cell_type": "code",
   "execution_count": null,
   "metadata": {},
   "outputs": [],
   "source": [
    "file_list = glob(\"./data/*\")\n",
    "file_list"
   ]
  },
  {
   "cell_type": "code",
   "execution_count": null,
   "metadata": {},
   "outputs": [],
   "source": [
    "mcq = pd.read_csv(file_list[4])\n",
    "mcq.info()"
   ]
  },
  {
   "cell_type": "code",
   "execution_count": null,
   "metadata": {},
   "outputs": [],
   "source": [
    "mcq.head()"
   ]
  },
  {
   "cell_type": "code",
   "execution_count": null,
   "metadata": {},
   "outputs": [],
   "source": [
    "mca = pd.read_csv(file_list[2], encoding=\"cp437\", low_memory=False)\n",
    "mca.info()"
   ]
  },
  {
   "cell_type": "code",
   "execution_count": null,
   "metadata": {},
   "outputs": [],
   "source": [
    "mca.head()"
   ]
  },
  {
   "cell_type": "code",
   "execution_count": null,
   "metadata": {},
   "outputs": [],
   "source": [
    "mcq[mcq[\"Column\"] == \"LanguageRecommendationSelect\"]"
   ]
  },
  {
   "cell_type": "code",
   "execution_count": null,
   "metadata": {},
   "outputs": [],
   "source": [
    "mca.loc[:, mca.columns == \"LanguageRecommendationSelect\"].value_counts().head()"
   ]
  },
  {
   "cell_type": "code",
   "execution_count": null,
   "metadata": {},
   "outputs": [],
   "source": [
    "mca[\"LanguageRecommendationSelect\"].value_counts().index"
   ]
  },
  {
   "cell_type": "code",
   "execution_count": null,
   "metadata": {},
   "outputs": [],
   "source": [
    "plt.figure(figsize=(12, 6))\n",
    "sns.set(font_scale=0.8)\n",
    "sns.countplot(mca, y=\"LanguageRecommendationSelect\", order=mca[\"LanguageRecommendationSelect\"].value_counts().index)"
   ]
  },
  {
   "cell_type": "code",
   "execution_count": null,
   "metadata": {},
   "outputs": [],
   "source": [
    "mca[\"CurrentJobTitleSelect\"].value_counts().head()"
   ]
  },
  {
   "cell_type": "code",
   "execution_count": null,
   "metadata": {},
   "outputs": [],
   "source": [
    "plt.figure(figsize=(12, 6))\n",
    "sns.countplot(mca, y=\"CurrentJobTitleSelect\", order=mca[\"CurrentJobTitleSelect\"].value_counts().index)"
   ]
  },
  {
   "cell_type": "code",
   "execution_count": null,
   "metadata": {},
   "outputs": [],
   "source": [
    "# count() Method는 Nan 컬럼은 세지 않는다.\n",
    "mca[\"CurrentJobTitleSelect\"].count()"
   ]
  },
  {
   "cell_type": "code",
   "execution_count": null,
   "metadata": {},
   "outputs": [],
   "source": [
    "# 컬럼 값이 Null(Nan)인 아이들만...\n",
    "mca[\"CurrentJobTitleSelect\"].isnull().sum()"
   ]
  },
  {
   "cell_type": "code",
   "execution_count": null,
   "metadata": {},
   "outputs": [],
   "source": [
    "# 컬럼 수 세기\n",
    "mca[\"CurrentJobTitleSelect\"].notnull().count()"
   ]
  },
  {
   "cell_type": "code",
   "execution_count": null,
   "metadata": {},
   "outputs": [],
   "source": [
    "mca[\"LanguageRecommendationSelect\"].value_counts()"
   ]
  },
  {
   "cell_type": "code",
   "execution_count": null,
   "metadata": {},
   "outputs": [],
   "source": [
    "data = mca[(mca[\"LanguageRecommendationSelect\"] == \"Python\") | (mca[\"LanguageRecommendationSelect\"] == \"R\")]\n",
    "data.shape"
   ]
  },
  {
   "cell_type": "code",
   "execution_count": null,
   "metadata": {},
   "outputs": [],
   "source": [
    "mca[mca[\"CurrentJobTitleSelect\"].notnull() & ((mca[\"LanguageRecommendationSelect\"] == \"Python\") | (mca[\"LanguageRecommendationSelect\"] == \"R\"))][\"CurrentJobTitleSelect\"].count()"
   ]
  },
  {
   "cell_type": "code",
   "execution_count": null,
   "metadata": {},
   "outputs": [],
   "source": [
    "plt.figure(figsize=(12, 8))\n",
    "sns.countplot(data,\n",
    "              y=\"CurrentJobTitleSelect\",\n",
    "              hue=\"LanguageRecommendationSelect\",\n",
    "              order=data[\"CurrentJobTitleSelect\"].value_counts().index)"
   ]
  },
  {
   "cell_type": "code",
   "execution_count": null,
   "metadata": {},
   "outputs": [],
   "source": [
    "data.pivot_table(\"EmploymentStatus\", index=[\"CurrentJobTitleSelect\"], columns=[\"LanguageRecommendationSelect\"], aggfunc=\"count\")"
   ]
  },
  {
   "cell_type": "code",
   "execution_count": null,
   "metadata": {},
   "outputs": [],
   "source": [
    "data.groupby([\"CurrentJobTitleSelect\", \"LanguageRecommendationSelect\"])[\"CurrentJobTitleSelect\"].count()"
   ]
  },
  {
   "cell_type": "code",
   "execution_count": null,
   "metadata": {},
   "outputs": [],
   "source": [
    "tool_count_df = pd.DataFrame(mca[\"MLToolNextYearSelect\"].value_counts())\n",
    "tool_count_df"
   ]
  },
  {
   "cell_type": "code",
   "execution_count": null,
   "metadata": {},
   "outputs": [],
   "source": [
    "tool_rate_df = pd.DataFrame(mca[\"MLToolNextYearSelect\"].value_counts(normalize=True))\n",
    "tool_rate_df"
   ]
  },
  {
   "cell_type": "code",
   "execution_count": null,
   "metadata": {},
   "outputs": [],
   "source": [
    "tool_df = pd.concat([tool_count_df, tool_rate_df], axis=1)\n",
    "tool_df.columns = [\"응답수\", \"비율\"]\n",
    "data = tool_df.head(20)\n",
    "data"
   ]
  },
  {
   "cell_type": "code",
   "execution_count": null,
   "metadata": {},
   "outputs": [],
   "source": [
    "sns.set(font=\"Malgun Gothic\", font_scale=0.8)\n",
    "sns.barplot(data, y=data.index, x=\"응답수\")"
   ]
  },
  {
   "cell_type": "code",
   "execution_count": null,
   "metadata": {},
   "outputs": [],
   "source": [
    "data =mca[\"MLMethodNextYearSelect\"].value_counts().head(15)\n",
    "data.values"
   ]
  },
  {
   "cell_type": "code",
   "execution_count": null,
   "metadata": {},
   "outputs": [],
   "source": [
    "sns.barplot(y=data.index, x=data.values)"
   ]
  },
  {
   "cell_type": "code",
   "execution_count": null,
   "metadata": {},
   "outputs": [],
   "source": [
    "# pd.set_option(\"display.max_colwidth\", None)\n",
    "# pd.set_option(\"display.max_rows\", None)\n",
    "# pd.set_option(\"display.max_columns\", None)"
   ]
  },
  {
   "cell_type": "code",
   "execution_count": null,
   "metadata": {},
   "outputs": [],
   "source": [
    "# platform_df = mca[\"LearningPlatformSelect\"].str.split(\",\", expand=True).melt().drop(\"variable\", axis=1).dropna()\n",
    "# platform_df.columns = [\"LearningPlatformName\"]\n",
    "# platform_df.head()"
   ]
  },
  {
   "cell_type": "code",
   "execution_count": null,
   "metadata": {},
   "outputs": [],
   "source": [
    "# platform_df[\"LearningPlatformName\"].value_counts()"
   ]
  },
  {
   "cell_type": "code",
   "execution_count": null,
   "metadata": {},
   "outputs": [],
   "source": [
    "# mca[\"LearningPlatformSelect\"].str.split(\",\", expand=True)"
   ]
  },
  {
   "cell_type": "code",
   "execution_count": null,
   "metadata": {},
   "outputs": [],
   "source": [
    "# mca[\"LearningPlatformSelect\"].str.split(\",\", expand=True).melt(ignore_index=False).drop(\"variable\", axis=1).loc[0].dropna()"
   ]
  },
  {
   "cell_type": "code",
   "execution_count": null,
   "metadata": {},
   "outputs": [],
   "source": [
    "# mca[\"LearningPlatformSelect\"].str.split(\",\", expand=True).stack()"
   ]
  },
  {
   "cell_type": "code",
   "execution_count": null,
   "metadata": {},
   "outputs": [],
   "source": [
    "platform_df = mca[\"LearningPlatformSelect\"].str.split(\",\", expand=True).stack().reset_index(level=1, drop=True)\n",
    "data = platform_df.value_counts().head(15)\n",
    "data"
   ]
  },
  {
   "cell_type": "code",
   "execution_count": null,
   "metadata": {},
   "outputs": [],
   "source": [
    "sns.barplot(y=data.index, x=data.values)"
   ]
  },
  {
   "cell_type": "code",
   "execution_count": null,
   "metadata": {},
   "outputs": [],
   "source": [
    "# pd.reset_option(\"display.max_colwidth\")\n",
    "# pd.reset_option(\"display.max_rows\")\n",
    "# pd.reset_option(\"display.max_columns\")"
   ]
  },
  {
   "cell_type": "code",
   "execution_count": null,
   "metadata": {},
   "outputs": [],
   "source": [
    "usefulness_list = mca.columns[mca.columns.str.contains(\"LearningPlatformUsefulness\")].tolist()\n",
    "usefulness_list"
   ]
  },
  {
   "cell_type": "code",
   "execution_count": null,
   "metadata": {},
   "outputs": [],
   "source": [
    "# mca[\"LearningPlatformUsefulnessArxiv\"].value_counts(normalize=True)"
   ]
  },
  {
   "cell_type": "code",
   "execution_count": null,
   "metadata": {},
   "outputs": [],
   "source": [
    "usefulness_rate_dict = {}\n",
    "for usefulness in usefulness_list:\n",
    "    temp = mca[usefulness].value_counts(normalize=True)\n",
    "    usefulness_rate_dict[usefulness[len(\"LearningPlatformUsefulness\"):]] = temp\n",
    "\n",
    "for k, v in usefulness_rate_dict.items():\n",
    "    print (k, v, sep=\"\\n\", end=\"\\n\\n\")\n"
   ]
  },
  {
   "cell_type": "code",
   "execution_count": null,
   "metadata": {},
   "outputs": [],
   "source": [
    "usefulness_rate_df = pd.DataFrame(usefulness_rate_dict).transpose().sort_values(\"Very useful\", ascending=False).sort_index(axis=1, ascending=False)\n",
    "usefulness_rate_df.head()"
   ]
  },
  {
   "cell_type": "code",
   "execution_count": null,
   "metadata": {},
   "outputs": [],
   "source": [
    "plt.figure(figsize=(8, 8))\n",
    "sns.heatmap(usefulness_rate_df, annot=True, fmt=\".2f\")"
   ]
  },
  {
   "cell_type": "code",
   "execution_count": null,
   "metadata": {},
   "outputs": [],
   "source": [
    "plot = usefulness_rate_df.plot.bar(figsize=(16, 8), title=\"Usefulness of Learning Platforms\")\n",
    "plt.xticks(rotation=60)\n",
    "plot"
   ]
  },
  {
   "cell_type": "code",
   "execution_count": null,
   "metadata": {},
   "outputs": [],
   "source": [
    "category_list = list(mca.columns[mca.columns.str.contains(\"LearningCategory\", regex=True)])\n",
    "category_list"
   ]
  },
  {
   "cell_type": "code",
   "execution_count": null,
   "metadata": {},
   "outputs": [],
   "source": [
    "category_mean_dict = {}\n",
    "for category in category_list:\n",
    "    temp = mca[category].mean()\n",
    "    category_mean_dict[category[len(\"LearningCategory\"):]] = temp\n",
    "category_series = pd.Series(category_mean_dict)\n",
    "category_series"
   ]
  },
  {
   "cell_type": "code",
   "execution_count": null,
   "metadata": {},
   "outputs": [],
   "source": [
    "category_series.plot.pie(autopct=\"%.1f%%\")"
   ]
  },
  {
   "cell_type": "code",
   "execution_count": null,
   "metadata": {},
   "outputs": [],
   "source": [
    "mcq[mcq[\"Column\"].str.contains(\"HardwarePersonalProjectsSelect\")].iloc[0, 1]"
   ]
  },
  {
   "cell_type": "code",
   "execution_count": null,
   "metadata": {},
   "outputs": [],
   "source": [
    "mca[mca[\"HardwarePersonalProjectsSelect\"].notnull()][\"HardwarePersonalProjectsSelect\"].shape"
   ]
  },
  {
   "cell_type": "code",
   "execution_count": null,
   "metadata": {},
   "outputs": [],
   "source": [
    "# mca[\"HardwarePersonalProjectsSelect\"].str.split(\",\", expand=True).melt(ignore_index=False).drop(\"variable\", axis=1).dropna()"
   ]
  },
  {
   "cell_type": "code",
   "execution_count": null,
   "metadata": {},
   "outputs": [],
   "source": [
    "hardware_series = mca[\"HardwarePersonalProjectsSelect\"] \\\n",
    "    .str.split(\",\", expand=True) \\\n",
    "    .stack() \\\n",
    "    .reset_index(level=1, drop=True) \\\n",
    "    .value_counts()\n",
    "\n",
    "hardware_series.name = \"hardware\"\n",
    "\n",
    "pd.DataFrame(hardware_series)"
   ]
  },
  {
   "cell_type": "code",
   "execution_count": null,
   "metadata": {},
   "outputs": [],
   "source": [
    "mca.groupby([\"TimeSpentStudying\", \"EmploymentStatus\"])[\"EmploymentStatus\"].count()"
   ]
  },
  {
   "cell_type": "code",
   "execution_count": null,
   "metadata": {},
   "outputs": [],
   "source": [
    "plt.figure(figsize=(12, 6))\n",
    "sns.countplot(mca,\n",
    "              y=\"TimeSpentStudying\",\n",
    "              hue=\"EmploymentStatus\")"
   ]
  },
  {
   "cell_type": "code",
   "execution_count": null,
   "metadata": {},
   "outputs": [],
   "source": [
    "mca[\"EmploymentStatus\"].value_counts()"
   ]
  },
  {
   "cell_type": "code",
   "execution_count": null,
   "metadata": {},
   "outputs": [],
   "source": [
    "fulltime_df = mca[mca[\"EmploymentStatus\"] == \"Employed full-time\"]\n",
    "fulltime_df.shape"
   ]
  },
  {
   "cell_type": "code",
   "execution_count": null,
   "metadata": {},
   "outputs": [],
   "source": [
    "parttime_df = mca[mca[\"EmploymentStatus\"] == \"Not employed, but looking for work\"]\n",
    "parttime_df.shape"
   ]
  },
  {
   "cell_type": "code",
   "execution_count": null,
   "metadata": {},
   "outputs": [],
   "source": [
    "figure, (ax1, ax2) = plt.subplots(ncols=2)\n",
    "figure.set_size_inches(12, 8)\n",
    "\n",
    "sns.countplot(fulltime_df,\n",
    "              x=\"TimeSpentStudying\",\n",
    "              hue=\"EmploymentStatus\",\n",
    "              ax=ax1)\n",
    "\n",
    "sns.countplot(parttime_df,\n",
    "              x=\"TimeSpentStudying\",\n",
    "              hue=\"EmploymentStatus\",\n",
    "              ax=ax2)"
   ]
  }
 ],
 "metadata": {
  "kernelspec": {
   "display_name": "system_trading_py39_64",
   "language": "python",
   "name": "python3"
  },
  "language_info": {
   "codemirror_mode": {
    "name": "ipython",
    "version": 3
   },
   "file_extension": ".py",
   "mimetype": "text/x-python",
   "name": "python",
   "nbconvert_exporter": "python",
   "pygments_lexer": "ipython3",
   "version": "3.9.16"
  },
  "orig_nbformat": 4
 },
 "nbformat": 4,
 "nbformat_minor": 2
}
