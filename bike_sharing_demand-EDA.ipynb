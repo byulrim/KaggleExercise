{
 "cells": [
  {
   "cell_type": "code",
   "execution_count": null,
   "metadata": {},
   "outputs": [],
   "source": [
    "import pandas as pd\n",
    "import numpy as np\n",
    "import matplotlib.pyplot as plt\n",
    "import seaborn as sns\n",
    "from scipy import stats\n",
    "import matplotlib as mpl\n",
    "from glob import glob"
   ]
  },
  {
   "cell_type": "code",
   "execution_count": null,
   "metadata": {},
   "outputs": [],
   "source": [
    "plt.rc(\"font\", family=\"Malgun Gothic\")\n",
    "# plt.rc(\"font\", family=\"D2Coding\")\n",
    "plt.rc(\"axes\", unicode_minus=False)"
   ]
  },
  {
   "cell_type": "code",
   "execution_count": null,
   "metadata": {},
   "outputs": [],
   "source": [
    "file_list = glob(\"./data/bike/*\")\n",
    "print(len(file_list), file_list, sep=\"\\n\")"
   ]
  },
  {
   "cell_type": "code",
   "execution_count": null,
   "metadata": {},
   "outputs": [],
   "source": [
    "train = pd.read_csv(file_list[2], parse_dates=[\"datetime\"])\n",
    "train.shape"
   ]
  },
  {
   "cell_type": "code",
   "execution_count": null,
   "metadata": {},
   "outputs": [],
   "source": [
    "train.info()"
   ]
  },
  {
   "cell_type": "code",
   "execution_count": null,
   "metadata": {},
   "outputs": [],
   "source": [
    "train.head()"
   ]
  },
  {
   "cell_type": "code",
   "execution_count": null,
   "metadata": {},
   "outputs": [],
   "source": [
    "sns.set(font_scale=0.9)"
   ]
  },
  {
   "cell_type": "code",
   "execution_count": null,
   "metadata": {},
   "outputs": [],
   "source": [
    "train.hist(figsize=(12, 14), xrot=30)"
   ]
  },
  {
   "cell_type": "code",
   "execution_count": null,
   "metadata": {},
   "outputs": [],
   "source": [
    "train[\"temp\"].describe()"
   ]
  },
  {
   "cell_type": "code",
   "execution_count": null,
   "metadata": {},
   "outputs": [],
   "source": [
    "train.isna().sum()"
   ]
  },
  {
   "cell_type": "code",
   "execution_count": null,
   "metadata": {},
   "outputs": [],
   "source": [
    "train[\"datetime\"].head()"
   ]
  },
  {
   "cell_type": "code",
   "execution_count": null,
   "metadata": {},
   "outputs": [],
   "source": [
    "train[\"year\"] = train[\"datetime\"].dt.year\n",
    "train[\"month\"] = train[\"datetime\"].dt.month\n",
    "train[\"day\"] = train[\"datetime\"].dt.day\n",
    "train[\"hour\"] = train[\"datetime\"].dt.hour"
   ]
  },
  {
   "cell_type": "code",
   "execution_count": null,
   "metadata": {},
   "outputs": [],
   "source": [
    "train[[\"datetime\", \"year\", \"month\", \"day\", \"hour\"]].tail()"
   ]
  },
  {
   "cell_type": "code",
   "execution_count": null,
   "metadata": {},
   "outputs": [],
   "source": [
    "figure, ((ax1, ax2), (ax3, ax4)) = plt.subplots(2, 2)\n",
    "figure.set_size_inches(12, 10)\n",
    "\n",
    "sns.barplot(train, \n",
    "            x=\"year\", \n",
    "            y=\"count\", \n",
    "            ax=ax1)\n",
    "sns.barplot(train, \n",
    "            x=\"month\", \n",
    "            y=\"count\", \n",
    "            ax=ax2)\n",
    "sns.barplot(train, \n",
    "            x=\"day\", \n",
    "            y=\"count\", \n",
    "            ax=ax3)\n",
    "sns.barplot(train, \n",
    "            x=\"hour\", \n",
    "            y=\"count\", \n",
    "            ax=ax4)\n",
    "\n",
    "ax1.set(title=\"연별 대여량\")\n",
    "ax2.set(title=\"월별 대여량\")\n",
    "ax3.set(title=\"일별 대여량\")\n",
    "ax4.set(title=\"시간별 대여량\")"
   ]
  },
  {
   "cell_type": "code",
   "execution_count": null,
   "metadata": {},
   "outputs": [],
   "source": [
    "train[\"count\"].describe()"
   ]
  },
  {
   "cell_type": "code",
   "execution_count": null,
   "metadata": {},
   "outputs": [],
   "source": [
    "fig, axes = plt.subplots(2, 2)\n",
    "fig.set_size_inches(12, 10)\n",
    "\n",
    "sns.boxplot(train, \n",
    "            y=\"count\",\n",
    "            ax=axes[0][0])\n",
    "sns.boxplot(train, \n",
    "            x=\"season\",\n",
    "            y=\"count\",\n",
    "            ax=axes[0][1])\n",
    "sns.boxplot(train, \n",
    "            x=\"hour\",\n",
    "            y=\"count\",\n",
    "            ax=axes[1][0])\n",
    "sns.boxplot(train,\n",
    "            x=\"workingday\",\n",
    "            y=\"count\",\n",
    "            ax=axes[1][1])\n",
    "\n",
    "axes[0][0].set(title=\"대여량\")\n",
    "axes[0][1].set(title=\"계절별 대여량\")\n",
    "axes[1][0].set(title=\"시간별 대여량\")\n",
    "axes[1][1].set(title=\"근무일 여부에 따른 대여량\")"
   ]
  },
  {
   "cell_type": "code",
   "execution_count": null,
   "metadata": {},
   "outputs": [],
   "source": [
    "train[\"dayofweek\"] = train[\"datetime\"].dt.dayofweek\n",
    "train.shape"
   ]
  },
  {
   "cell_type": "code",
   "execution_count": null,
   "metadata": {},
   "outputs": [],
   "source": [
    "train[\"dayofweek\"].value_counts()"
   ]
  },
  {
   "cell_type": "code",
   "execution_count": null,
   "metadata": {},
   "outputs": [],
   "source": [
    "fig, (ax1, ax2, ax3, ax4, ax5) = plt.subplots(5)\n",
    "fig.set_size_inches(12, 24)\n",
    "\n",
    "sns.pointplot(train,\n",
    "              x=\"hour\",\n",
    "              y=\"count\",\n",
    "              ax=ax1)\n",
    "sns.pointplot(train,\n",
    "              x=\"hour\",\n",
    "              y=\"count\",\n",
    "              hue=\"workingday\",\n",
    "              ax=ax2)\n",
    "sns.pointplot(train,\n",
    "              x=\"hour\",\n",
    "              y=\"count\",\n",
    "              hue=\"dayofweek\",\n",
    "              ax=ax3)\n",
    "sns.pointplot(train,\n",
    "              x=\"hour\",\n",
    "              y=\"count\",\n",
    "              hue=\"weather\",\n",
    "              ax=ax4)\n",
    "sns.pointplot(train,\n",
    "              x=\"hour\",\n",
    "              y=\"count\",\n",
    "              hue=\"season\",\n",
    "              ax=ax5)"
   ]
  },
  {
   "cell_type": "code",
   "execution_count": null,
   "metadata": {},
   "outputs": [],
   "source": [
    "corr_matrix_df = train[[\"temp\", \"atemp\", \"casual\", \"registered\", \"humidity\", \"windspeed\", \"count\"]]\n",
    "corr_matrix_df = corr_matrix_df.corr()\n",
    "corr_matrix_df"
   ]
  },
  {
   "cell_type": "code",
   "execution_count": null,
   "metadata": {},
   "outputs": [],
   "source": [
    "mask = np.array(corr_matrix_df)\n",
    "mask[np.tril_indices_from(mask)] = False\n",
    "\n",
    "plt.figure(figsize=(12, 8))\n",
    "sns.heatmap(corr_matrix_df,\n",
    "            cmap=\"Blues\",\n",
    "            annot=True,\n",
    "            fmt=\".2f\",\n",
    "            mask=mask)"
   ]
  },
  {
   "cell_type": "code",
   "execution_count": null,
   "metadata": {},
   "outputs": [],
   "source": [
    "fig, (ax1, ax2, ax3) = plt.subplots(ncols=3)\n",
    "fig.set_size_inches(12, 5)\n",
    "\n",
    "sns.regplot(train, \n",
    "            x=\"temp\", \n",
    "            y=\"count\",\n",
    "            ax=ax1)\n",
    "sns.regplot(train, \n",
    "            x=\"windspeed\", \n",
    "            y=\"count\",\n",
    "            ax=ax2)\n",
    "sns.regplot(train,\n",
    "            x=\"humidity\",\n",
    "            y=\"count\",\n",
    "            ax=ax3)"
   ]
  },
  {
   "cell_type": "code",
   "execution_count": null,
   "metadata": {},
   "outputs": [],
   "source": [
    "train[\"weather\"].value_counts()"
   ]
  },
  {
   "cell_type": "code",
   "execution_count": null,
   "metadata": {},
   "outputs": [],
   "source": [
    "def concat_year_month(datetime):\n",
    "    return f\"{datetime.year}-{datetime.month}\"\n",
    "\n",
    "train[\"year month\"] = train[\"datetime\"].apply(concat_year_month)\n",
    "train[[\"datetime\", \"year month\"]].head()"
   ]
  },
  {
   "cell_type": "code",
   "execution_count": null,
   "metadata": {},
   "outputs": [],
   "source": [
    "fig, (ax1, ax2) = plt.subplots(1, 2)\n",
    "fig.set_size_inches(12, 5)\n",
    "\n",
    "sns.barplot(train,\n",
    "            x=\"year\",\n",
    "            y=\"count\",\n",
    "            ax=ax1)\n",
    "sns.barplot(train,\n",
    "            x=\"month\",\n",
    "            y=\"count\",\n",
    "            ax=ax2)\n",
    "\n",
    "fig, ax3 = plt.subplots(1, 1)\n",
    "fig.set_size_inches(12, 5)\n",
    "\n",
    "sns.barplot(train,\n",
    "            x=\"year month\",\n",
    "            y=\"count\",\n",
    "            ax=ax3)\n",
    "plt.xticks(rotation=30)"
   ]
  }
 ],
 "metadata": {
  "kernelspec": {
   "display_name": "system_trading_py39_64",
   "language": "python",
   "name": "python3"
  },
  "language_info": {
   "codemirror_mode": {
    "name": "ipython",
    "version": 3
   },
   "file_extension": ".py",
   "mimetype": "text/x-python",
   "name": "python",
   "nbconvert_exporter": "python",
   "pygments_lexer": "ipython3",
   "version": "3.9.16"
  },
  "orig_nbformat": 4
 },
 "nbformat": 4,
 "nbformat_minor": 2
}
